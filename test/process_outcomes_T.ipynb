{
 "cells": [
  {
   "cell_type": "code",
   "execution_count": 92,
   "metadata": {
    "collapsed": true,
    "ExecuteTime": {
     "start_time": "2023-05-16T21:15:46.411963Z",
     "end_time": "2023-05-16T21:15:46.414874Z"
    }
   },
   "outputs": [],
   "source": [
    "import esdl\n",
    "from esdl.esdl_handler import EnergySystemHandler\n",
    "import plotly.graph_objects as go"
   ]
  },
  {
   "cell_type": "code",
   "execution_count": 93,
   "outputs": [
    {
     "ename": "FileNotFoundError",
     "evalue": "[Errno 2] No such file or directory: '../output/2023-05-12T09:17:22.297061/Tholen_Input_A=1_T=1'",
     "output_type": "error",
     "traceback": [
      "\u001B[0;31m---------------------------------------------------------------------------\u001B[0m",
      "\u001B[0;31mFileNotFoundError\u001B[0m                         Traceback (most recent call last)",
      "Cell \u001B[0;32mIn[93], line 20\u001B[0m\n\u001B[1;32m     18\u001B[0m esh \u001B[38;5;241m=\u001B[39m EnergySystemHandler()\n\u001B[1;32m     19\u001B[0m \u001B[38;5;66;03m# esh.load_file('../ESDLs-Input/Tholen_Input.esdl')\u001B[39;00m\n\u001B[0;32m---> 20\u001B[0m \u001B[43mesh\u001B[49m\u001B[38;5;241;43m.\u001B[39;49m\u001B[43mload_file\u001B[49m\u001B[43m(\u001B[49m\u001B[38;5;124;43m'\u001B[39;49m\u001B[38;5;124;43m../output/2023-05-12T09:17:22.297061/Tholen_Input_A=1_T=1\u001B[39;49m\u001B[38;5;124;43m'\u001B[39;49m\u001B[43m)\u001B[49m\n\u001B[1;32m     21\u001B[0m energySystem \u001B[38;5;241m=\u001B[39m esh\u001B[38;5;241m.\u001B[39mget_energy_system()\n\u001B[1;32m     22\u001B[0m instance \u001B[38;5;241m=\u001B[39m energySystem\u001B[38;5;241m.\u001B[39minstance[\u001B[38;5;241m0\u001B[39m]\n",
      "File \u001B[0;32m/opt/homebrew/Caskroom/miniforge/base/envs/teacos-adapter-arm/lib/python3.10/site-packages/esdl/esdl_handler.py:68\u001B[0m, in \u001B[0;36mEnergySystemHandler.load_file\u001B[0;34m(self, uri_or_filename)\u001B[0m\n\u001B[1;32m     66\u001B[0m \u001B[38;5;28;01melse\u001B[39;00m:\n\u001B[1;32m     67\u001B[0m     uri \u001B[38;5;241m=\u001B[39m URI(uri_or_filename)\n\u001B[0;32m---> 68\u001B[0m \u001B[38;5;28;01mreturn\u001B[39;00m \u001B[38;5;28;43mself\u001B[39;49m\u001B[38;5;241;43m.\u001B[39;49m\u001B[43mload_uri\u001B[49m\u001B[43m(\u001B[49m\u001B[43muri\u001B[49m\u001B[43m)\u001B[49m\n",
      "File \u001B[0;32m/opt/homebrew/Caskroom/miniforge/base/envs/teacos-adapter-arm/lib/python3.10/site-packages/esdl/esdl_handler.py:73\u001B[0m, in \u001B[0;36mEnergySystemHandler.load_uri\u001B[0;34m(self, uri)\u001B[0m\n\u001B[1;32m     71\u001B[0m \u001B[38;5;250m\u001B[39m\u001B[38;5;124;03m\"\"\"Loads a new resource in a new resourceSet\"\"\"\u001B[39;00m\n\u001B[1;32m     72\u001B[0m \u001B[38;5;28mself\u001B[39m\u001B[38;5;241m.\u001B[39m_new_resource_set()\n\u001B[0;32m---> 73\u001B[0m \u001B[38;5;28mself\u001B[39m\u001B[38;5;241m.\u001B[39mresource \u001B[38;5;241m=\u001B[39m \u001B[38;5;28;43mself\u001B[39;49m\u001B[38;5;241;43m.\u001B[39;49m\u001B[43mrset\u001B[49m\u001B[38;5;241;43m.\u001B[39;49m\u001B[43mget_resource\u001B[49m\u001B[43m(\u001B[49m\u001B[43muri\u001B[49m\u001B[43m)\u001B[49m\n\u001B[1;32m     74\u001B[0m \u001B[38;5;66;03m# At this point, the model instance is loaded!\u001B[39;00m\n\u001B[1;32m     75\u001B[0m \u001B[38;5;28mself\u001B[39m\u001B[38;5;241m.\u001B[39menergy_system \u001B[38;5;241m=\u001B[39m \u001B[38;5;28mself\u001B[39m\u001B[38;5;241m.\u001B[39mresource\u001B[38;5;241m.\u001B[39mcontents[\u001B[38;5;241m0\u001B[39m]\n",
      "File \u001B[0;32m/opt/homebrew/Caskroom/miniforge/base/envs/teacos-adapter-arm/lib/python3.10/site-packages/pyecore/resources/resource.py:94\u001B[0m, in \u001B[0;36mResourceSet.get_resource\u001B[0;34m(self, uri, options)\u001B[0m\n\u001B[1;32m     92\u001B[0m resource \u001B[38;5;241m=\u001B[39m \u001B[38;5;28mself\u001B[39m\u001B[38;5;241m.\u001B[39mcreate_resource(uri)\n\u001B[1;32m     93\u001B[0m \u001B[38;5;28;01mtry\u001B[39;00m:\n\u001B[0;32m---> 94\u001B[0m     \u001B[43mresource\u001B[49m\u001B[38;5;241;43m.\u001B[39;49m\u001B[43mload\u001B[49m\u001B[43m(\u001B[49m\u001B[43moptions\u001B[49m\u001B[38;5;241;43m=\u001B[39;49m\u001B[43moptions\u001B[49m\u001B[43m)\u001B[49m\n\u001B[1;32m     95\u001B[0m \u001B[38;5;28;01mexcept\u001B[39;00m \u001B[38;5;167;01mException\u001B[39;00m:\n\u001B[1;32m     96\u001B[0m     \u001B[38;5;28mself\u001B[39m\u001B[38;5;241m.\u001B[39mremove_resource(resource)\n",
      "File \u001B[0;32m/opt/homebrew/Caskroom/miniforge/base/envs/teacos-adapter-arm/lib/python3.10/site-packages/pyecore/resources/xmi.py:34\u001B[0m, in \u001B[0;36mXMIResource.load\u001B[0;34m(self, options)\u001B[0m\n\u001B[1;32m     32\u001B[0m \u001B[38;5;28mself\u001B[39m\u001B[38;5;241m.\u001B[39moptions \u001B[38;5;241m=\u001B[39m options \u001B[38;5;129;01mor\u001B[39;00m {}\n\u001B[1;32m     33\u001B[0m \u001B[38;5;28mself\u001B[39m\u001B[38;5;241m.\u001B[39mcache_enabled \u001B[38;5;241m=\u001B[39m \u001B[38;5;28;01mTrue\u001B[39;00m\n\u001B[0;32m---> 34\u001B[0m tree \u001B[38;5;241m=\u001B[39m parse(\u001B[38;5;28;43mself\u001B[39;49m\u001B[38;5;241;43m.\u001B[39;49m\u001B[43muri\u001B[49m\u001B[38;5;241;43m.\u001B[39;49m\u001B[43mcreate_instream\u001B[49m\u001B[43m(\u001B[49m\u001B[43m)\u001B[49m)\n\u001B[1;32m     35\u001B[0m xmlroot \u001B[38;5;241m=\u001B[39m tree\u001B[38;5;241m.\u001B[39mgetroot()\n\u001B[1;32m     36\u001B[0m \u001B[38;5;28mself\u001B[39m\u001B[38;5;241m.\u001B[39mprefixes\u001B[38;5;241m.\u001B[39mupdate(xmlroot\u001B[38;5;241m.\u001B[39mnsmap)\n",
      "File \u001B[0;32m/opt/homebrew/Caskroom/miniforge/base/envs/teacos-adapter-arm/lib/python3.10/site-packages/pyecore/resources/resource.py:178\u001B[0m, in \u001B[0;36mURI.create_instream\u001B[0;34m(self)\u001B[0m\n\u001B[1;32m    177\u001B[0m \u001B[38;5;28;01mdef\u001B[39;00m \u001B[38;5;21mcreate_instream\u001B[39m(\u001B[38;5;28mself\u001B[39m):\n\u001B[0;32m--> 178\u001B[0m     \u001B[38;5;28mself\u001B[39m\u001B[38;5;241m.\u001B[39m__stream \u001B[38;5;241m=\u001B[39m \u001B[38;5;28;43mopen\u001B[39;49m\u001B[43m(\u001B[49m\u001B[38;5;28;43mself\u001B[39;49m\u001B[38;5;241;43m.\u001B[39;49m\u001B[43mplain\u001B[49m\u001B[43m,\u001B[49m\u001B[43m \u001B[49m\u001B[38;5;124;43m'\u001B[39;49m\u001B[38;5;124;43mrb\u001B[39;49m\u001B[38;5;124;43m'\u001B[39;49m\u001B[43m)\u001B[49m\n\u001B[1;32m    179\u001B[0m     \u001B[38;5;28;01mreturn\u001B[39;00m \u001B[38;5;28mself\u001B[39m\u001B[38;5;241m.\u001B[39m__stream\n",
      "\u001B[0;31mFileNotFoundError\u001B[0m: [Errno 2] No such file or directory: '../output/2023-05-12T09:17:22.297061/Tholen_Input_A=1_T=1'"
     ]
    }
   ],
   "source": [
    "sourceList = []\n",
    "sinkList = []\n",
    "valueList = []\n",
    "nodeColourList = []\n",
    "linkColourList = []\n",
    "sumList = []\n",
    "pinkhex = \"rgba(215, 198, 225, 0.5)\"\n",
    "pinknode = \"#9C75B9\"\n",
    "purplehex = \"rgba(205, 208, 236, 0.5)\"\n",
    "purplenode = \"#8892D0\"\n",
    "darkbluehex = \"rgba(198, 222, 233, 0.5)\"\n",
    "darkbluenode = \"#7FAEDF\"\n",
    "lightbluehex = \"rgba(200, 236, 223, 0.5)\"\n",
    "lighbluenode = \"#7CD6C8\"\n",
    "lightgreennode = \"#8EE0A7\"\n",
    "wattageconvertor = 3.6\n",
    "\n",
    "esh = EnergySystemHandler()\n",
    "# esh.load_file('../ESDLs-Input/Tholen_Input.esdl')\n",
    "esh.load_file('../output/2023-05-12T09:17:22.297061/Tholen_Input_A=1_T=1')\n",
    "energySystem = esh.get_energy_system()\n",
    "instance = energySystem.instance[0]\n",
    "topLevelArea = instance.area\n",
    "AssetList = topLevelArea.asset"
   ],
   "metadata": {
    "collapsed": false,
    "ExecuteTime": {
     "start_time": "2023-05-12T10:29:43.932512Z",
     "end_time": "2023-05-12T10:29:44.269828Z"
    }
   }
  },
  {
   "cell_type": "code",
   "execution_count": null,
   "outputs": [],
   "source": [
    "for asset in AssetList:\n",
    "    if isinstance(asset, esdl.PVInstallation) and asset.state == esdl.AssetStateEnum.OPTIONAL:\n",
    "        print(asset.power)\n",
    "        sourceList.append(6)\n",
    "        sinkList.append(1)\n",
    "        valueList.append(asset.power * wattageconvertor)\n",
    "        linkColourList.append(pinkhex)"
   ],
   "metadata": {
    "collapsed": false,
    "ExecuteTime": {
     "start_time": "2023-05-12T10:29:44.269929Z",
     "end_time": "2023-05-12T10:29:44.272776Z"
    }
   }
  },
  {
   "cell_type": "code",
   "execution_count": null,
   "outputs": [],
   "source": [
    "for asset in AssetList:\n",
    "    if isinstance(asset, esdl.AbstractBuilding):\n",
    "        for a in asset.asset:\n",
    "            if isinstance(a, esdl.ElectricityDemand):\n",
    "                for port in a.port:\n",
    "                    if isinstance(port, esdl.InPort):\n",
    "                        for profile in port.profile:\n",
    "                            remainingMJ = 0\n",
    "\n",
    "                            if a.name == \"Gebouwgebonden elektriciteitsgebruik\":\n",
    "                                sourceList.append(3)\n",
    "                                sinkList.append(4)\n",
    "                                valueList.append(profile.multiplier)\n",
    "                                print(a.name, profile.multiplier)\n",
    "                                linkColourList.append(lightbluehex)\n",
    "\n",
    "                                remainingMJ += profile.multiplier\n",
    "                            print(\"RMJ\", remainingMJ)\n",
    "\n",
    "                            if a.name == \"Procesgebonden elektriciteitsgebruik\":\n",
    "                                sourceList.append(3)\n",
    "                                sinkList.append(5)\n",
    "                                valueList.append(profile.multiplier)\n",
    "                                print(profile.multiplier)\n",
    "                                linkColourList.append(lightbluehex)\n",
    "\n",
    "                                remainingMJ = remainingMJ + profile.multiplier\n",
    "                            print(\"RMJ2\", remainingMJ)\n",
    "\n",
    "                            for a in asset.asset:\n",
    "                                if isinstance(a, esdl.PVInstallation):\n",
    "                                    wattGenerated = a.power\n",
    "                                    MJGenerated = wattGenerated * wattageconvertor\n",
    "                                    print(\"MJG\", MJGenerated)\n",
    "                                    sourceList.append(7)\n",
    "                                    sinkList.append(3)\n",
    "                                    valueList.append(min(remainingMJ, MJGenerated))\n",
    "                                    linkColourList.append(pinkhex)\n",
    "                                    remainingMJ = max(0, remainingMJ - MJGenerated)\n",
    "                            print(remainingMJ)\n",
    "\n",
    "                            sourceList.append(2)\n",
    "                            sinkList.append(3)\n",
    "                            valueList.append(remainingMJ)\n",
    "                            linkColourList.append(darkbluehex)\n",
    "\n",
    "                            sumList.append(remainingMJ)"
   ],
   "metadata": {
    "collapsed": false,
    "ExecuteTime": {
     "start_time": "2023-05-12T10:29:44.278196Z",
     "end_time": "2023-05-12T10:29:44.280060Z"
    }
   }
  },
  {
   "cell_type": "code",
   "execution_count": null,
   "outputs": [],
   "source": [
    "sum(sumList)\n",
    "sourceList.append(0)\n",
    "sinkList.append(1)\n",
    "valueList.append(sum(sumList)-valueList[0])\n",
    "linkColourList.append(pinkhex)"
   ],
   "metadata": {
    "collapsed": false,
    "ExecuteTime": {
     "start_time": "2023-05-12T10:29:44.281778Z",
     "end_time": "2023-05-12T10:29:44.283162Z"
    }
   }
  },
  {
   "cell_type": "code",
   "execution_count": null,
   "outputs": [],
   "source": [
    "sum(sumList)\n",
    "sourceList.append(1)\n",
    "sinkList.append(2)\n",
    "valueList.append(sum(sumList))\n",
    "linkColourList.append(purplehex)"
   ],
   "metadata": {
    "collapsed": false,
    "ExecuteTime": {
     "start_time": "2023-05-12T10:29:44.284026Z",
     "end_time": "2023-05-12T10:29:44.285202Z"
    }
   }
  },
  {
   "cell_type": "code",
   "execution_count": null,
   "outputs": [],
   "source": [
    "label = [\"Elektricity Supply\",\n",
    "        \"Electricity Cable\",\n",
    "        \"Electricity Network\",\n",
    "        \"Electricity Connector\",\n",
    "        \"Gebouwgebonden Eletriciteitgebruik\", \"Procesgebonden Elektriciteitsgebruik\",\n",
    "        \"PV Installation TEACOS\",\n",
    "        \"PV Panel Agents\"\n",
    "        ]\n",
    "\n",
    "nodeColourList = [pinknode,\n",
    "                  purplenode,\n",
    "                  darkbluenode,\n",
    "                  lighbluenode,\n",
    "                  lightgreennode, lightgreennode,\n",
    "                  pinknode,\n",
    "                  pinknode\n",
    "                  ]\n",
    "\n",
    "x = [0.0, 0.2, 0.4, 0.6, 0.8, 0.8, 0.0, 0.0]\n",
    "y = [0.2, 0.5, 0.5, 0.5, 0.2, 0.8, 0.5, 0.8]\n",
    "\n",
    "link = dict(source = sourceList, target = sinkList, value = valueList, color = linkColourList)\n",
    "node = dict(label = label, x = x, y = y, pad = 150, thickness = 10, color = nodeColourList)\n",
    "data = go.Sankey(link = link, node = node)\n",
    "fig = go.Figure(data)\n",
    "fig.update_layout(title_text=\"Sankey Diagram of\", font_size=10)\n",
    "fig.show()"
   ],
   "metadata": {
    "collapsed": false,
    "ExecuteTime": {
     "start_time": "2023-05-12T10:29:44.300970Z",
     "end_time": "2023-05-12T10:29:44.317456Z"
    }
   }
  },
  {
   "cell_type": "code",
   "execution_count": null,
   "outputs": [],
   "source": [],
   "metadata": {
    "collapsed": false,
    "ExecuteTime": {
     "start_time": "2023-05-12T10:29:44.304035Z",
     "end_time": "2023-05-12T10:29:44.317549Z"
    }
   }
  }
 ],
 "metadata": {
  "kernelspec": {
   "display_name": "Python 3",
   "language": "python",
   "name": "python3"
  },
  "language_info": {
   "codemirror_mode": {
    "name": "ipython",
    "version": 2
   },
   "file_extension": ".py",
   "mimetype": "text/x-python",
   "name": "python",
   "nbconvert_exporter": "python",
   "pygments_lexer": "ipython2",
   "version": "2.7.6"
  }
 },
 "nbformat": 4,
 "nbformat_minor": 0
}
