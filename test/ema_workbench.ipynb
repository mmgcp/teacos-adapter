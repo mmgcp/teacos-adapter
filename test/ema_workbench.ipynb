{
 "cells": [
  {
   "cell_type": "code",
   "execution_count": 1,
   "metadata": {
    "collapsed": true,
    "ExecuteTime": {
     "start_time": "2023-05-23T15:31:08.240231Z",
     "end_time": "2023-05-23T15:31:09.759976Z"
    }
   },
   "outputs": [
    {
     "name": "stderr",
     "output_type": "stream",
     "text": [
      "/opt/homebrew/Caskroom/miniforge/base/envs/teacos-adapter-arm/lib/python3.10/site-packages/ema_workbench/em_framework/evaluators.py:58: UserWarning: ipyparallel not installed - IpyparalleEvaluator not available\n",
      "  warnings.warn(\"ipyparallel not installed - IpyparalleEvaluator not available\")\n"
     ]
    }
   ],
   "source": [
    "# Import necessary packages\n",
    "import numpy as np\n",
    "import pandas as pd\n",
    "import matplotlib.pyplot as plt\n",
    "import seaborn as sns\n",
    "import datetime\n",
    "import random\n",
    "\n",
    "# Import EMA Workbench modules\n",
    "from ema_workbench import (ReplicatorModel, RealParameter, BooleanParameter, IntegerParameter, Constant, TimeSeriesOutcome, perform_experiments, save_results, ema_logging)\n",
    "\n",
    "# Initialize logger to keep track of experiments run\n",
    "ema_logging.log_to_stderr(ema_logging.INFO)\n",
    "\n",
    "# Import Mesa virus on network model\n",
    "import abm_model_ema"
   ]
  },
  {
   "cell_type": "code",
   "execution_count": 2,
   "outputs": [],
   "source": [
    "def ABModel(radius = 1,\n",
    "            budget = 1,\n",
    "            PVPanelBatchSize = 1,\n",
    "            CostOfPVPanel = 1,\n",
    "            steps = 12):\n",
    "\n",
    "    import abm_model_ema\n",
    "\n",
    "    my_model = abm_model_ema.TholenModel(radius=radius,\n",
    "                                budget=budget,\n",
    "                                PVPanelBatchSize=PVPanelBatchSize,\n",
    "                                CostOfPVPanel=CostOfPVPanel)\n",
    "\n",
    "\n",
    "    my_model.run_model(steps)\n",
    "\n",
    "    outcomes = my_model.datacollector.get_model_vars_dataframe()\n",
    "\n",
    "    return {'TIME' : list(range(steps)),\n",
    "            \"Number of Agents that bought Solar Panels\" : outcomes[\"Agents With Solar Panels\"].tolist(),\n",
    "            \"Number of Agents that haven't bought Solar Panels\" : outcomes[\"Agents Without Solar Panels\"].tolist(),\n",
    "            \"Number of Solar Panels Bought\" : outcomes[\"Solar Panels Bought\"].tolist()}"
   ],
   "metadata": {
    "collapsed": false,
    "ExecuteTime": {
     "start_time": "2023-05-23T15:31:11.311095Z",
     "end_time": "2023-05-23T15:31:11.314915Z"
    }
   }
  },
  {
   "cell_type": "code",
   "execution_count": 3,
   "outputs": [
    {
     "name": "stderr",
     "output_type": "stream",
     "text": [
      "/opt/homebrew/Caskroom/miniforge/base/envs/teacos-adapter-arm/lib/python3.10/site-packages/shapely/constructive.py:181: RuntimeWarning: invalid value encountered in buffer\n",
      "  return lib.buffer(\n",
      "/opt/homebrew/Caskroom/miniforge/base/envs/teacos-adapter-arm/lib/python3.10/site-packages/shapely/predicates.py:798: RuntimeWarning: invalid value encountered in intersects\n",
      "  return lib.intersects(a, b, **kwargs)\n"
     ]
    },
    {
     "name": "stdout",
     "output_type": "stream",
     "text": [
      "12858.457706953499\n"
     ]
    },
    {
     "data": {
      "text/plain": "{'TIME': [0, 1, 2, 3, 4, 5, 6, 7, 8, 9, 10, 11],\n 'Number of Agents that bought Solar Panels': [0,\n  0,\n  0,\n  7,\n  7,\n  7,\n  13,\n  13,\n  13,\n  29,\n  29,\n  29],\n \"Number of Agents that haven't bought Solar Panels\": [112,\n  112,\n  112,\n  105,\n  105,\n  105,\n  99,\n  99,\n  99,\n  83,\n  83,\n  83],\n 'Number of Solar Panels Bought': [0,\n  0,\n  0,\n  14,\n  14,\n  14,\n  26,\n  26,\n  26,\n  58,\n  58,\n  58]}"
     },
     "execution_count": 3,
     "metadata": {},
     "output_type": "execute_result"
    }
   ],
   "source": [
    "# Parameters\n",
    "radius = 0.0075\n",
    "budget = 1000\n",
    "PVPanelBatchSize = 2\n",
    "CostOfPVPanel = 500\n",
    "steps = 12\n",
    "\n",
    "\n",
    "results = ABModel(radius = radius,\n",
    "                    budget = budget,\n",
    "                    PVPanelBatchSize = PVPanelBatchSize,\n",
    "                    CostOfPVPanel = CostOfPVPanel,\n",
    "                    steps = steps)\n",
    "\n",
    "results"
   ],
   "metadata": {
    "collapsed": false,
    "ExecuteTime": {
     "start_time": "2023-05-23T15:31:12.584175Z",
     "end_time": "2023-05-23T15:31:13.520867Z"
    }
   }
  },
  {
   "cell_type": "code",
   "execution_count": 4,
   "outputs": [],
   "source": [
    "# Instantiate and pass the model\n",
    "model = ReplicatorModel('Tholen', function=ABModel)"
   ],
   "metadata": {
    "collapsed": false,
    "ExecuteTime": {
     "start_time": "2023-05-23T15:31:17.140781Z",
     "end_time": "2023-05-23T15:31:17.143656Z"
    }
   }
  },
  {
   "cell_type": "code",
   "execution_count": 5,
   "outputs": [],
   "source": [
    "# Define model parameters and their ranges to be sampled\n",
    "model.uncertainties = [RealParameter(\"radius\", 0.0075, 0.00005),\n",
    "                       RealParameter(\"budget\", 750, 1500),\n",
    "                       RealParameter(\"CostOfPVPanel\", 350, 650)\n",
    "                       ]\n",
    "\n",
    "model.constants = [Constant(\"PVPanelBatchSize\", 2)]\n",
    "\n",
    "# Define model outcomes\n",
    "model.outcomes = [TimeSeriesOutcome('TIME'),\n",
    "                  TimeSeriesOutcome(\"Number of Agents that bought Solar Panels\"),\n",
    "                  TimeSeriesOutcome(\"Number of Agents that haven't bought Solar Panels\"),\n",
    "                  TimeSeriesOutcome(\"Number of Solar Panels Bought\")\n",
    "                  ]\n",
    "\n",
    "# Define the number of replications\n",
    "model.replications = 10"
   ],
   "metadata": {
    "collapsed": false,
    "ExecuteTime": {
     "start_time": "2023-05-23T15:31:18.222236Z",
     "end_time": "2023-05-23T15:31:18.225145Z"
    }
   }
  },
  {
   "cell_type": "code",
   "execution_count": 6,
   "outputs": [
    {
     "name": "stderr",
     "output_type": "stream",
     "text": [
      "[MainProcess/INFO] performing 500 scenarios * 1 policies * 1 model(s) = 500 experiments\n",
      "  0%|                                                  | 0/500 [00:00<?, ?it/s][MainProcess/INFO] performing experiments sequentially\n"
     ]
    },
    {
     "ename": "EMAError",
     "evalue": "some fatal error has occurred while running the experiments, not all runs have completed. expected 500, got 0",
     "output_type": "error",
     "traceback": [
      "\u001B[0;31m---------------------------------------------------------------------------\u001B[0m",
      "\u001B[0;31mEMAError\u001B[0m                                  Traceback (most recent call last)",
      "Cell \u001B[0;32mIn[6], line 2\u001B[0m\n\u001B[1;32m      1\u001B[0m \u001B[38;5;66;03m# Run experiments with the aforementioned parameters and outputs\u001B[39;00m\n\u001B[0;32m----> 2\u001B[0m results \u001B[38;5;241m=\u001B[39m \u001B[43mperform_experiments\u001B[49m\u001B[43m(\u001B[49m\u001B[43mmodels\u001B[49m\u001B[38;5;241;43m=\u001B[39;49m\u001B[43mmodel\u001B[49m\u001B[43m,\u001B[49m\u001B[43m \u001B[49m\u001B[43mscenarios\u001B[49m\u001B[38;5;241;43m=\u001B[39;49m\u001B[38;5;241;43m500\u001B[39;49m\u001B[43m)\u001B[49m\n",
      "File \u001B[0;32m/opt/homebrew/Caskroom/miniforge/base/envs/teacos-adapter-arm/lib/python3.10/site-packages/ema_workbench/em_framework/evaluators.py:571\u001B[0m, in \u001B[0;36mperform_experiments\u001B[0;34m(models, scenarios, policies, evaluator, reporting_interval, reporting_frequency, uncertainty_union, lever_union, outcome_union, uncertainty_sampling, lever_sampling, callback, return_callback, combine, log_progress)\u001B[0m\n\u001B[1;32m    568\u001B[0m evaluator\u001B[38;5;241m.\u001B[39mevaluate_experiments(scenarios, policies, callback, combine\u001B[38;5;241m=\u001B[39mcombine)\n\u001B[1;32m    570\u001B[0m \u001B[38;5;28;01mif\u001B[39;00m callback\u001B[38;5;241m.\u001B[39mi \u001B[38;5;241m!=\u001B[39m nr_of_exp:\n\u001B[0;32m--> 571\u001B[0m     \u001B[38;5;28;01mraise\u001B[39;00m EMAError(\n\u001B[1;32m    572\u001B[0m         (\n\u001B[1;32m    573\u001B[0m             \u001B[38;5;124m\"\u001B[39m\u001B[38;5;124msome fatal error has occurred while \u001B[39m\u001B[38;5;124m\"\u001B[39m\n\u001B[1;32m    574\u001B[0m             \u001B[38;5;124m\"\u001B[39m\u001B[38;5;124mrunning the experiments, not all runs have \u001B[39m\u001B[38;5;124m\"\u001B[39m\n\u001B[1;32m    575\u001B[0m             \u001B[38;5;124m\"\u001B[39m\u001B[38;5;124mcompleted. expected \u001B[39m\u001B[38;5;132;01m{}\u001B[39;00m\u001B[38;5;124m, got \u001B[39m\u001B[38;5;132;01m{}\u001B[39;00m\u001B[38;5;124m\"\u001B[39m\n\u001B[1;32m    576\u001B[0m         )\u001B[38;5;241m.\u001B[39mformat(nr_of_exp, callback\u001B[38;5;241m.\u001B[39mi)\n\u001B[1;32m    577\u001B[0m     )\n\u001B[1;32m    579\u001B[0m _logger\u001B[38;5;241m.\u001B[39minfo(\u001B[38;5;124m\"\u001B[39m\u001B[38;5;124mexperiments finished\u001B[39m\u001B[38;5;124m\"\u001B[39m)\n\u001B[1;32m    581\u001B[0m \u001B[38;5;28;01mif\u001B[39;00m return_callback:\n",
      "\u001B[0;31mEMAError\u001B[0m: some fatal error has occurred while running the experiments, not all runs have completed. expected 500, got 0"
     ]
    }
   ],
   "source": [
    "# Run experiments with the aforementioned parameters and outputs\n",
    "results = perform_experiments(models=model, scenarios=500)"
   ],
   "metadata": {
    "collapsed": false
   }
  },
  {
   "cell_type": "code",
   "execution_count": null,
   "outputs": [],
   "source": [],
   "metadata": {
    "collapsed": false
   }
  }
 ],
 "metadata": {
  "kernelspec": {
   "display_name": "Python 3",
   "language": "python",
   "name": "python3"
  },
  "language_info": {
   "codemirror_mode": {
    "name": "ipython",
    "version": 2
   },
   "file_extension": ".py",
   "mimetype": "text/x-python",
   "name": "python",
   "nbconvert_exporter": "python",
   "pygments_lexer": "ipython2",
   "version": "2.7.6"
  }
 },
 "nbformat": 4,
 "nbformat_minor": 0
}
